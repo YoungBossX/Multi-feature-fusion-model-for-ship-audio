{
 "cells": [
  {
   "cell_type": "code",
   "execution_count": 7,
   "id": "af9cb437",
   "metadata": {},
   "outputs": [],
   "source": [
    "import pandas as pd\n",
    "import numpy as np\n",
    "import os\n",
    "import re"
   ]
  },
  {
   "cell_type": "code",
   "execution_count": 3,
   "id": "1e2361c2",
   "metadata": {},
   "outputs": [],
   "source": [
    "df1 = pd.read_csv(r\".\\MEL.csv\") \n",
    "df2 = pd.read_csv(r\".\\shipsEar_prompts_4.csv\")  \n",
    "\n",
    "df2['Filename'] = df2['Filename'].str.replace('.wav', '', regex=False)\n"
   ]
  },
  {
   "cell_type": "code",
   "execution_count": 4,
   "id": "46512f95",
   "metadata": {},
   "outputs": [
    {
     "name": "stdout",
     "output_type": "stream",
     "text": [
      "合并完成！\n",
      "合并后的数据形状: (11210, 6)\n",
      "前5行数据:\n",
      "   ID                       Filename                  SegmentedFilename  \\\n",
      "0   6  6__10_07_13_marDeCangas_Entra    6__10_07_13_marDeCangas_Entra_1   \n",
      "1   6  6__10_07_13_marDeCangas_Entra   6__10_07_13_marDeCangas_Entra_10   \n",
      "2   6  6__10_07_13_marDeCangas_Entra  6__10_07_13_marDeCangas_Entra_100   \n",
      "3   6  6__10_07_13_marDeCangas_Entra  6__10_07_13_marDeCangas_Entra_101   \n",
      "4   6  6__10_07_13_marDeCangas_Entra  6__10_07_13_marDeCangas_Entra_102   \n",
      "\n",
      "         Type  ClassID                                          prompt_en  \n",
      "0  Passengers        2  The sound belongs to a Passengers (size class ...  \n",
      "1  Passengers        2  The sound belongs to a Passengers (size class ...  \n",
      "2  Passengers        2  The sound belongs to a Passengers (size class ...  \n",
      "3  Passengers        2  The sound belongs to a Passengers (size class ...  \n",
      "4  Passengers        2  The sound belongs to a Passengers (size class ...  \n"
     ]
    }
   ],
   "source": [
    "merged_df = pd.merge(df1, df2[['Filename', 'prompt_en']], \n",
    "                     on='Filename', \n",
    "                     how='left')\n",
    "\n",
    "merged_df.to_csv('zero-shot.csv', index=False)\n",
    "print(\"合并完成！\")\n",
    "print(f\"合并后的数据形状: {merged_df.shape}\")\n",
    "print(\"前5行数据:\")\n",
    "print(merged_df.head())"
   ]
  }
 ],
 "metadata": {
  "kernelspec": {
   "display_name": "pytorch_env",
   "language": "python",
   "name": "python3"
  },
  "language_info": {
   "codemirror_mode": {
    "name": "ipython",
    "version": 3
   },
   "file_extension": ".py",
   "mimetype": "text/x-python",
   "name": "python",
   "nbconvert_exporter": "python",
   "pygments_lexer": "ipython3",
   "version": "3.10.15"
  }
 },
 "nbformat": 4,
 "nbformat_minor": 5
}
