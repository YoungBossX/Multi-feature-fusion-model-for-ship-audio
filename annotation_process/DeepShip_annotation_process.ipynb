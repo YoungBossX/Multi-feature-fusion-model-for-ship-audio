{
 "cells": [
  {
   "cell_type": "code",
   "execution_count": 4,
   "id": "5c6fe861",
   "metadata": {},
   "outputs": [],
   "source": [
    "import sys, re, csv\n",
    "from pathlib import Path"
   ]
  },
  {
   "cell_type": "code",
   "execution_count": 7,
   "id": "54633973",
   "metadata": {},
   "outputs": [],
   "source": [
    "COLUMNS = [\"ID\", \"class ID\", \"Recording ID\", \"Ship Name\",\n",
    "           \"Date & Time\", \"Duration(sec)\", \"Distances(m)\"]\n",
    "           \n",
    "def clean_line(s):\n",
    "    # 统一空白和连字符\n",
    "    return (s.replace(\"\\u00A0\", \" \")   # nbsp -> space\n",
    "             .replace(\"\\u2013\", \"-\")  # en-dash –\n",
    "             .replace(\"\\u2014\", \"-\")  # em-dash —\n",
    "             .replace(\"\\u2212\", \"-\")  # minus sign −\n",
    "             .strip())\n",
    "\n",
    "def parse_file(path):\n",
    "    rows, bad = [], 0\n",
    "    with open(path, \"r\") as f:\n",
    "        for line_num, raw in enumerate(f, 1):\n",
    "            line = clean_line(raw)\n",
    "\n",
    "            # 使用逗号分割数据\n",
    "            parts = [part.strip() for part in line.split(',')]\n",
    "            \n",
    "            # 提取各个字段\n",
    "            id = parts[0].strip()\n",
    "            class_id = parts[1].strip() \n",
    "            ship_name = parts[2].strip()\n",
    "            date_part = parts[3].strip()\n",
    "            time_part = parts[4].strip()\n",
    "            duration = parts[5].strip()\n",
    "            distances = parts[6].strip()\n",
    "            \n",
    "            # 合并日期和时间，格式化为 YYYYMMDD:HHMMSS\n",
    "            date_time = f\"{date_part}:{time_part}\"\n",
    "            \n",
    "            # 这里假设 Recording ID 和 ID 相同，或者可以根据需要调整\n",
    "            recording_id = id # 或者可以设置为其他值\n",
    "            \n",
    "            rows.append([id, class_id, recording_id, ship_name, date_time, duration, distances])\n",
    "    \n",
    "    return rows"
   ]
  },
  {
   "cell_type": "code",
   "execution_count": null,
   "id": "9d3d0bbb",
   "metadata": {},
   "outputs": [
    {
     "name": "stdout",
     "output_type": "stream",
     "text": [
      "Saved: D:\\Git_Clone\\Multi-feature-fusion-model-for-ship-audio\\DeepShip\\cargo-metafile.csv  (rows: 110)\n"
     ]
    }
   ],
   "source": [
    "in_path = Path(r\"D:\\Git_Clone\\Multi-feature-fusion-model-for-ship-audio\\DeepShip\\cargo-metafile\")\n",
    "out_path = in_path.with_suffix(\".csv\")\n",
    "rows = parse_file(in_path)\n",
    "with open(out_path, \"w\", newline=\"\") as f:\n",
    "        writer = csv.writer(f)\n",
    "        writer.writerow(COLUMNS)\n",
    "        writer.writerows(rows)\n",
    "print(f\"Saved: {out_path})\")"
   ]
  }
 ],
 "metadata": {
  "kernelspec": {
   "display_name": "pytorch_env",
   "language": "python",
   "name": "python3"
  },
  "language_info": {
   "codemirror_mode": {
    "name": "ipython",
    "version": 3
   },
   "file_extension": ".py",
   "mimetype": "text/x-python",
   "name": "python",
   "nbconvert_exporter": "python",
   "pygments_lexer": "ipython3",
   "version": "3.10.16"
  }
 },
 "nbformat": 4,
 "nbformat_minor": 5
}
