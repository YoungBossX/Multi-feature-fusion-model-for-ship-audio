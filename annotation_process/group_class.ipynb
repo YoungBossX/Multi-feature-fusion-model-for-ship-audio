{
 "cells": [
  {
   "cell_type": "code",
   "execution_count": 1,
   "id": "55ce0348",
   "metadata": {},
   "outputs": [],
   "source": [
    "import os\n",
    "import pandas as pd\n",
    "import re"
   ]
  },
  {
   "cell_type": "code",
   "execution_count": 2,
   "id": "e2a131a5",
   "metadata": {},
   "outputs": [],
   "source": [
    "INPUT_PATH = r\"E:\\数据集\\ShipEar\\data_preprocessing\\annotation\\shipsEar.xlsx\"\n",
    "OUT_PATH = r\"E:\\数据集\\ShipEar\\data_preprocessing\\annotation\"\n",
    "\n",
    "df = pd.read_excel(INPUT_PATH)\n",
    "csv_output_file = os.path.join(OUT_PATH, \"shipsEar.csv\")\n",
    "df.to_csv(csv_output_file, index=False, encoding='utf-8-sig', errors='ignore')"
   ]
  },
  {
   "cell_type": "code",
   "execution_count": 3,
   "id": "cda24f30",
   "metadata": {},
   "outputs": [
    {
     "name": "stdout",
     "output_type": "stream",
     "text": [
      "输入文件: E:\\数据集\\ShipEar\\data_preprocessing\\annotation\\shipsEar.xlsx\n",
      "已保存: E:\\数据集\\ShipEar\\data_preprocessing\\annotation\\shipear_group.csv\n"
     ]
    }
   ],
   "source": [
    "df = pd.read_csv(csv_output_file)\n",
    "out_df = pd.DataFrame()\n",
    "for col in [\"ID\", \"Filename\", \"Name\", \"Type\", \"Channel Depth\", \"Wind\", \"Distance\"]:\n",
    "    out_df[col] = df[col]\n",
    "out_df['group_id'] = df['ID']\n",
    "output_file = os.path.join(OUT_PATH, \"shipear_group.csv\")\n",
    "out_df.to_csv(output_file, index=False)\n",
    "print(\"输入文件:\", INPUT_PATH)\n",
    "print(\"已保存:\", output_file)"
   ]
  },
  {
   "cell_type": "code",
   "execution_count": 4,
   "id": "41462576",
   "metadata": {},
   "outputs": [],
   "source": [
    "type_mapping_5_classes = {\n",
    "    'Fishboat': 0,\n",
    "    'Trawler': 0,\n",
    "    'Mussel boat': 0,\n",
    "    'Tugboat': 0,\n",
    "    'Dredger': 0,\n",
    "\n",
    "    'Motorboat': 1,\n",
    "    'Pilot ship': 1,\n",
    "    'Sailboat': 1,\n",
    "\n",
    "    'Passengers': 2,\n",
    "\n",
    "    'Ocean liner': 3,\n",
    "    'RORO': 3,\n",
    "\n",
    "    'Natural ambient noise': 4\n",
    "}\n",
    "\n",
    "type_mapping_12_classes = {\n",
    "    'Fishboat': 0,\n",
    "    'Trawler': 1,\n",
    "    'Mussel boat': 2,\n",
    "    'Tugboat': 3,\n",
    "    'Dredger': 4,\n",
    "    'Motorboat': 5,\n",
    "    'Pilot ship': 6,\n",
    "    'Sailboat': 7,\n",
    "    'Passengers': 8,\n",
    "    'Ocean liner': 9,\n",
    "    'RORO': 10,\n",
    "    'Natural ambient noise': 11\n",
    "}\n",
    "out_df['class_id_5'] = out_df['Type'].map(type_mapping_5_classes)\n",
    "out_df['class_id_12'] = out_df['Type'].map(type_mapping_12_classes)\n",
    "output_file = os.path.join(OUT_PATH, \"shipear_group_class.csv\")\n",
    "out_df.to_csv(output_file, index=False)"
   ]
  },
  {
   "cell_type": "code",
   "execution_count": 4,
   "id": "8e6b5fd5",
   "metadata": {},
   "outputs": [
    {
     "name": "stdout",
     "output_type": "stream",
     "text": [
      "已处理 5718 个分段文件\n",
      "已保存: E:\\数据集\\ShipEar\\data_preprocessing\\annotation\\shipear_group_class_segmented_prompt_en_0%overlap.csv\n"
     ]
    }
   ],
   "source": [
    "df = pd.read_csv(r\"E:\\数据集\\ShipEar\\data_preprocessing\\annotation\\shipear_group_class_prompt_en.csv\")\n",
    "out_df = pd.DataFrame()\n",
    "for col in [\"ID\", \"Filename\", \"Name\", \"Type\", \"group_id\", \"class_id_5\", \"class_id_12\", \"Channel Depth\", \"Wind\", \"Distance\", \"prompt_en\"]:\n",
    "    out_df[col] = df[col]\n",
    "    \n",
    "file_directory = r\"E:\\数据集\\ShipEar\\data_preprocessing\\9_Frame_Windows_2s_0%\"\n",
    "if os.path.exists(file_directory):\n",
    "    files_in_dir = [os.path.splitext(f)[0] for f in os.listdir(file_directory) if os.path.isfile(os.path.join(file_directory, f))]\n",
    "    out_df['segmented_filename'] = out_df['Filename'].str.replace('.wav', '', regex=False)\n",
    "\n",
    "    # 创建原始文件名到信息的映射\n",
    "    original_file_mapping = {}\n",
    "    for _, row in out_df.iterrows():\n",
    "        original_filename = row['Filename']\n",
    "        original_file_mapping[original_filename] = row.to_dict()\n",
    "    # 为每个分段文件创建标注记录\n",
    "    segmented_rows = []\n",
    "    for segmented_file in files_in_dir:\n",
    "        parts = segmented_file.split('_')\n",
    "        original_filename = '_'.join(parts[:-1]) + '.wav'\n",
    "        segment_number = parts[-1]\n",
    "\n",
    "        if original_filename in original_file_mapping:\n",
    "            original_info = original_file_mapping[original_filename]\n",
    "            segmented_row = original_info.copy()\n",
    "            segmented_row['segmented_filename'] = segmented_file\n",
    "            segmented_row['segment_number'] = segment_number\n",
    "            segmented_rows.append(segmented_row)\n",
    "\n",
    "    if segmented_rows:\n",
    "        segmented_df = pd.DataFrame(segmented_rows)\n",
    "        column_order = ['ID', 'Filename', 'Name', 'Type', 'group_id', 'class_id_5', 'class_id_12', 'segmented_filename', 'segment_number', \"Channel Depth\", \"Wind\", \"Distance\", \"prompt_en\"]\n",
    "        segmented_df = segmented_df[column_order]\n",
    "        output_file = os.path.join(r\"E:\\数据集\\ShipEar\\data_preprocessing\\annotation\", r\"shipear_group_class_segmented_prompt_en_0%overlap.csv\")\n",
    "        segmented_df.to_csv(output_file, index=False)\n",
    "        print(f\"已处理 {len(segmented_rows)} 个分段文件\")\n",
    "        print(f\"已保存: {output_file}\")"
   ]
  },
  {
   "cell_type": "markdown",
   "id": "905eda30",
   "metadata": {},
   "source": [
    "## 12 类标签处理"
   ]
  },
  {
   "cell_type": "code",
   "execution_count": 10,
   "id": "d9ffd9e0",
   "metadata": {},
   "outputs": [
    {
     "name": "stdout",
     "output_type": "stream",
     "text": [
      "已处理 9481 个分段文件\n",
      "已保存: E:\\数据集\\ShipEar\\data_preprocessing\\shipsear_with_split-12class\\train_seg_mel_feature\\train_12.csv\n"
     ]
    }
   ],
   "source": [
    "df = pd.read_csv(r\"E:\\数据集\\ShipEar\\data_preprocessing\\annotation\\shipear_group_class.csv\")\n",
    "out_df = pd.DataFrame()\n",
    "for col in [\"ID\", \"Filename\", \"Name\", \"Type\", \"Channel Depth\", \"Wind\", \"Distance\", \"group_id\", \"class_id\"]:\n",
    "    out_df[col] = df[col]\n",
    "    \n",
    "file_directory = r\"E:\\数据集\\ShipEar\\data_preprocessing\\shipsear_with_split-12class\\train_seg_mel_feature\"\n",
    "if os.path.exists(file_directory):\n",
    "    files_in_dir = [os.path.splitext(f)[0] for f in os.listdir(file_directory) if os.path.isfile(os.path.join(file_directory, f))]\n",
    "    out_df['segmented_filename'] = out_df['Filename'].str.replace('.wav', '', regex=False)\n",
    "\n",
    "    # 创建原始文件名到信息的映射\n",
    "    original_file_mapping = {}\n",
    "    for _, row in out_df.iterrows():\n",
    "        original_filename = row['Filename']\n",
    "        original_file_mapping[original_filename] = row.to_dict()\n",
    "    # 为每个分段文件创建标注记录\n",
    "    segmented_rows = []\n",
    "    for segmented_file in files_in_dir:\n",
    "        parts = segmented_file.split('_')\n",
    "        original_filename = '_'.join(parts[:-1]) + '.wav'\n",
    "        segment_number = parts[-1]\n",
    "\n",
    "        if original_filename in original_file_mapping:\n",
    "            original_info = original_file_mapping[original_filename]\n",
    "            segmented_row = original_info.copy()\n",
    "            segmented_row['segmented_filename'] = segmented_file\n",
    "            segmented_row['segment_number'] = segment_number\n",
    "            segmented_rows.append(segmented_row)\n",
    "\n",
    "    if segmented_rows:\n",
    "        segmented_df = pd.DataFrame(segmented_rows)\n",
    "        column_order = ['ID', 'Filename', 'Name', 'Type', 'group_id', 'class_id', 'segmented_filename', 'segment_number']\n",
    "        segmented_df = segmented_df[column_order]\n",
    "        output_file = os.path.join(r\"E:\\数据集\\ShipEar\\data_preprocessing\\shipsear_with_split-12class\\train_seg_mel_feature\", \"train_12.csv\")\n",
    "        segmented_df.to_csv(output_file, index=False)\n",
    "        print(f\"已处理 {len(segmented_rows)} 个分段文件\")\n",
    "        print(f\"已保存: {output_file}\")"
   ]
  },
  {
   "cell_type": "code",
   "execution_count": 11,
   "id": "ddedac33",
   "metadata": {},
   "outputs": [
    {
     "name": "stdout",
     "output_type": "stream",
     "text": [
      "已处理 1804 个分段文件\n",
      "已保存: E:\\数据集\\ShipEar\\data_preprocessing\\shipsear_with_split-12class\\test_seg_mel_feature\\test_12.csv\n"
     ]
    }
   ],
   "source": [
    "df = pd.read_csv(r\"E:\\数据集\\ShipEar\\data_preprocessing\\annotation\\shipear_group_class.csv\")\n",
    "out_df = pd.DataFrame()\n",
    "for col in [\"ID\", \"Filename\", \"Name\", \"Type\", \"Channel Depth\", \"Wind\", \"Distance\", \"group_id\", \"class_id\"]:\n",
    "    out_df[col] = df[col]\n",
    "    \n",
    "file_directory = r\"E:\\数据集\\ShipEar\\data_preprocessing\\shipsear_with_split-12class\\test_seg_mel_feature\"\n",
    "if os.path.exists(file_directory):\n",
    "    files_in_dir = [os.path.splitext(f)[0] for f in os.listdir(file_directory) if os.path.isfile(os.path.join(file_directory, f))]\n",
    "    out_df['segmented_filename'] = out_df['Filename'].str.replace('.wav', '', regex=False)\n",
    "\n",
    "    # 创建原始文件名到信息的映射\n",
    "    original_file_mapping = {}\n",
    "    for _, row in out_df.iterrows():\n",
    "        original_filename = row['Filename']\n",
    "        original_file_mapping[original_filename] = row.to_dict()\n",
    "    # 为每个分段文件创建标注记录\n",
    "    segmented_rows = []\n",
    "    for segmented_file in files_in_dir:\n",
    "        parts = segmented_file.split('_')\n",
    "        original_filename = '_'.join(parts[:-1]) + '.wav'\n",
    "        segment_number = parts[-1]\n",
    "\n",
    "        if original_filename in original_file_mapping:\n",
    "            original_info = original_file_mapping[original_filename]\n",
    "            segmented_row = original_info.copy()\n",
    "            segmented_row['segmented_filename'] = segmented_file\n",
    "            segmented_row['segment_number'] = segment_number\n",
    "            segmented_rows.append(segmented_row)\n",
    "\n",
    "    if segmented_rows:\n",
    "        segmented_df = pd.DataFrame(segmented_rows)\n",
    "        column_order = ['ID', 'Filename', 'Name', 'Type', 'group_id', 'class_id', 'segmented_filename', 'segment_number']\n",
    "        segmented_df = segmented_df[column_order]\n",
    "        output_file = os.path.join(r\"E:\\数据集\\ShipEar\\data_preprocessing\\shipsear_with_split-12class\\test_seg_mel_feature\", \"test_12.csv\")\n",
    "        segmented_df.to_csv(output_file, index=False)\n",
    "        print(f\"已处理 {len(segmented_rows)} 个分段文件\")\n",
    "        print(f\"已保存: {output_file}\")"
   ]
  },
  {
   "cell_type": "markdown",
   "id": "2d086601",
   "metadata": {},
   "source": [
    "## 分层抽样制作标签"
   ]
  },
  {
   "cell_type": "code",
   "execution_count": 7,
   "id": "d1b15055",
   "metadata": {},
   "outputs": [
    {
     "name": "stdout",
     "output_type": "stream",
     "text": [
      "已处理 5718 个分段文件\n",
      "已保存: E:\\数据集\\ShipEar\\data_preprocessing\\10_Frame_Windows_2s_0%_mel_feature\\mel_feature.csv\n"
     ]
    }
   ],
   "source": [
    "df = pd.read_csv(r\"E:\\数据集\\ShipEar\\data_preprocessing\\annotation\\shipear_group_class.csv\")\n",
    "out_df = pd.DataFrame()\n",
    "for col in [\"ID\", \"Filename\", \"Name\", \"Type\", \"Channel Depth\", \"Wind\", \"Distance\", \"group_id\", \"class_id_5\", \"class_id_12\"]:\n",
    "    out_df[col] = df[col]\n",
    "    \n",
    "file_directory = r\"E:\\数据集\\ShipEar\\data_preprocessing\\10_Frame_Windows_2s_0%_mel_feature\"\n",
    "if os.path.exists(file_directory):\n",
    "    files_in_dir = [os.path.splitext(f)[0] for f in os.listdir(file_directory) if os.path.isfile(os.path.join(file_directory, f))]\n",
    "    out_df['segmented_filename'] = out_df['Filename'].str.replace('.wav', '', regex=False)\n",
    "\n",
    "    # 创建原始文件名到信息的映射\n",
    "    original_file_mapping = {}\n",
    "    for _, row in out_df.iterrows():\n",
    "        original_filename = row['Filename']\n",
    "        original_file_mapping[original_filename] = row.to_dict()\n",
    "    # 为每个分段文件创建标注记录\n",
    "    segmented_rows = []\n",
    "    for segmented_file in files_in_dir:\n",
    "        parts = segmented_file.split('_')\n",
    "        original_filename = '_'.join(parts[:-1]) + '.wav'\n",
    "        segment_number = parts[-1]\n",
    "\n",
    "        if original_filename in original_file_mapping:\n",
    "            original_info = original_file_mapping[original_filename]\n",
    "            segmented_row = original_info.copy()\n",
    "            segmented_row['segmented_filename'] = segmented_file\n",
    "            segmented_row['segment_number'] = segment_number\n",
    "            segmented_rows.append(segmented_row)\n",
    "\n",
    "    if segmented_rows:\n",
    "        segmented_df = pd.DataFrame(segmented_rows)\n",
    "        column_order = ['ID', 'Filename', 'Name', 'Type', 'group_id', \"class_id_5\", \"class_id_12\", 'segmented_filename', 'segment_number']\n",
    "        segmented_df = segmented_df[column_order]\n",
    "        output_file = os.path.join(r\"E:\\数据集\\ShipEar\\data_preprocessing\\10_Frame_Windows_2s_0%_mel_feature\", \"mel_feature.csv\")\n",
    "        segmented_df.to_csv(output_file, index=False)\n",
    "        print(f\"已处理 {len(segmented_rows)} 个分段文件\")\n",
    "        print(f\"已保存: {output_file}\")"
   ]
  },
  {
   "cell_type": "code",
   "execution_count": 8,
   "id": "2d5d0fad",
   "metadata": {},
   "outputs": [
    {
     "name": "stdout",
     "output_type": "stream",
     "text": [
      "已处理 5718 个分段文件\n",
      "已保存: E:\\数据集\\ShipEar\\data_preprocessing\\11_Frame_Windows_2s_0%_mfcc_feature\\mfcc_feature.csv\n"
     ]
    }
   ],
   "source": [
    "df = pd.read_csv(r\"E:\\数据集\\ShipEar\\data_preprocessing\\annotation\\shipear_group_class.csv\")\n",
    "out_df = pd.DataFrame()\n",
    "for col in [\"ID\", \"Filename\", \"Name\", \"Type\", \"Channel Depth\", \"Wind\", \"Distance\", \"group_id\", \"class_id_5\", \"class_id_12\"]:\n",
    "    out_df[col] = df[col]\n",
    "    \n",
    "file_directory = r\"E:\\数据集\\ShipEar\\data_preprocessing\\11_Frame_Windows_2s_0%_mfcc_feature\"\n",
    "if os.path.exists(file_directory):\n",
    "    files_in_dir = [os.path.splitext(f)[0] for f in os.listdir(file_directory) if os.path.isfile(os.path.join(file_directory, f))]\n",
    "    out_df['segmented_filename'] = out_df['Filename'].str.replace('.wav', '', regex=False)\n",
    "\n",
    "    # 创建原始文件名到信息的映射\n",
    "    original_file_mapping = {}\n",
    "    for _, row in out_df.iterrows():\n",
    "        original_filename = row['Filename']\n",
    "        original_file_mapping[original_filename] = row.to_dict()\n",
    "    # 为每个分段文件创建标注记录\n",
    "    segmented_rows = []\n",
    "    for segmented_file in files_in_dir:\n",
    "        parts = segmented_file.split('_')\n",
    "        original_filename = '_'.join(parts[:-1]) + '.wav'\n",
    "        segment_number = parts[-1]\n",
    "\n",
    "        if original_filename in original_file_mapping:\n",
    "            original_info = original_file_mapping[original_filename]\n",
    "            segmented_row = original_info.copy()\n",
    "            segmented_row['segmented_filename'] = segmented_file\n",
    "            segmented_row['segment_number'] = segment_number\n",
    "            segmented_rows.append(segmented_row)\n",
    "\n",
    "    if segmented_rows:\n",
    "        segmented_df = pd.DataFrame(segmented_rows)\n",
    "        column_order = ['ID', 'Filename', 'Name', 'Type', 'group_id', \"class_id_5\", \"class_id_12\", 'segmented_filename', 'segment_number']\n",
    "        segmented_df = segmented_df[column_order]\n",
    "        output_file = os.path.join(r\"E:\\数据集\\ShipEar\\data_preprocessing\\11_Frame_Windows_2s_0%_mfcc_feature\", \"mfcc_feature.csv\")\n",
    "        segmented_df.to_csv(output_file, index=False)\n",
    "        print(f\"已处理 {len(segmented_rows)} 个分段文件\")\n",
    "        print(f\"已保存: {output_file}\")"
   ]
  }
 ],
 "metadata": {
  "kernelspec": {
   "display_name": "pytorch_env",
   "language": "python",
   "name": "python3"
  },
  "language_info": {
   "codemirror_mode": {
    "name": "ipython",
    "version": 3
   },
   "file_extension": ".py",
   "mimetype": "text/x-python",
   "name": "python",
   "nbconvert_exporter": "python",
   "pygments_lexer": "ipython3",
   "version": "3.10.15"
  }
 },
 "nbformat": 4,
 "nbformat_minor": 5
}
