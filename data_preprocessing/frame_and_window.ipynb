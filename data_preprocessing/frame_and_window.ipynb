{
 "cells": [
  {
   "cell_type": "code",
   "execution_count": null,
   "id": "93837cfc",
   "metadata": {},
   "outputs": [],
   "source": [
    "import librosa\n",
    "import os\n",
    "import glob\n",
    "import numpy as np\n",
    "from scipy.io import wavfile"
   ]
  },
  {
   "cell_type": "code",
   "execution_count": null,
   "id": "952759f3",
   "metadata": {},
   "outputs": [],
   "source": [
    "frame_duration = 2  # 帧时长为2秒\n",
    "overlap_rate = 0.5  # 帧与帧之间的重叠率为50%\n",
    "\n",
    "# 遍历音频文件夹中的音频文件\n",
    "dir_path = r'E:\\Models\\ShipsEar-master\\data_preprocessing\\'\n",
    "wav_paths = glob.glob(os.path.join(dir_path, '*.wav'))"
   ]
  },
  {
   "cell_type": "code",
   "execution_count": null,
   "id": "d0b616a4",
   "metadata": {},
   "outputs": [],
   "source": [
    "for wav_path in wav_paths:\n",
    "    fname, ext = os.path.split(wav_path)\n",
    "\n",
    "    # 加载音频\n",
    "    audio, sr = librosa.load(wav_path, sr=52734)\n",
    "\n",
    "    # 计算帧的长度和帧移\n",
    "    frame_length = int(frame_duration * sr)\n",
    "    hop_length = int(frame_length* (1 - overlap_rate))\n",
    "\n",
    "    # 分帧加窗\n",
    "    frames = librosa.util.frame(audio, frame_length=frame_length, hop_length=hop_length)\n",
    "\n",
    "    # 对每帧应用加窗\n",
    "    frames_windowed = np.apply_along_axis(apply_window, 0, frames)\n",
    "\n",
    "    # 创建保存加窗后帧的文件夹\n",
    "    output_folder = r\"E:\\Models\\ShipsEar-master\\data_preprocessing\\\"\n",
    "    os.makedirs(output_folder, exist_ok=True)\n",
    "\n",
    "    # 保存加窗后的每帧\n",
    "    for i, frame_windowed in enumerate(frames_windowed.T):\n",
    "        output_path = os.path.join(output_folder, f\"{ext}{i+1}.wav\")\n",
    "        wavfile.write(output_path, sr, frame_windowed)\n",
    "        print(f\"Processed: {ext}{_i+1}.wav\")\n",
    "print(\"All files processed.\")"
   ]
  }
 ],
 "metadata": {
  "language_info": {
   "name": "python"
  }
 },
 "nbformat": 4,
 "nbformat_minor": 5
}
