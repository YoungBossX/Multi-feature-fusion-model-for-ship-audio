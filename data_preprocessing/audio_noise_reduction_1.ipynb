{
 "cells": [
  {
   "cell_type": "code",
   "execution_count": 1,
   "id": "e35870ec",
   "metadata": {},
   "outputs": [],
   "source": [
    "import os\n",
    "import librosa\n",
    "import soundfile as sf\n",
    "from scipy.signal import medfilt"
   ]
  },
  {
   "cell_type": "code",
   "execution_count": 2,
   "id": "0f285248",
   "metadata": {},
   "outputs": [],
   "source": [
    "def denoise(input_file, output_file):\n",
    "    # 读取音频文件\n",
    "    audio, sample_rate = librosa.load(input_file)\n",
    "    # 对音频进行中值滤波\n",
    "    denoised_audio = medfilt(audio, kernel_size=3)\n",
    "    # 保存去噪后的音频文件\n",
    "    sf.write(output_file, denoised_audio, sample_rate, sr=sample_rate)"
   ]
  },
  {
   "cell_type": "code",
   "execution_count": null,
   "id": "a144ca6d",
   "metadata": {},
   "outputs": [],
   "source": [
    "def process_folder(input_folder, output_folder):\n",
    "    # 确保输出文件夹存在，没有的话自动创建\n",
    "    os.makedirs(output_folder, exist_ok=True)\n",
    "    # 处理输入文件夹中的所有 WAV 文件\n",
    "    for file in os.listdir(input_folder):\n",
    "        if file.endswith(\".wav\"):\n",
    "            input_file_path = os.path.join(input_folder, file)\n",
    "            output_file_path = os.path.join(output_folder, file)\n",
    "            # 执行去噪函数\n",
    "            denoise(input_file_path, output_file_path)\n",
    "            print(f\"{file} processed and saved.\")\n",
    "        else:\n",
    "            print(f\"{file} is not a WAV file.\")\n",
    "    print(\"All files processed.\")"
   ]
  },
  {
   "cell_type": "code",
   "execution_count": null,
   "id": "889405b7",
   "metadata": {},
   "outputs": [],
   "source": [
    "# 替换为输入和输出文件夹路径\n",
    "input_folder = r\"E:\\数据集\\ShipEar\\shipsEar_AUDIOS\"\n",
    "output_folder = r\"E:\\数据集\\ShipEar\\data_preprocessing\\audio_noise_reduction\""
   ]
  },
  {
   "cell_type": "code",
   "execution_count": null,
   "id": "e3d55d61",
   "metadata": {},
   "outputs": [],
   "source": [
    "# 处理整个文件夹中的所有文件\n",
    "process_folder(input_folder, output_folder)"
   ]
  }
 ],
 "metadata": {
  "kernelspec": {
   "display_name": "pytorch_env",
   "language": "python",
   "name": "python3"
  },
  "language_info": {
   "codemirror_mode": {
    "name": "ipython",
    "version": 3
   },
   "file_extension": ".py",
   "mimetype": "text/x-python",
   "name": "python",
   "nbconvert_exporter": "python",
   "pygments_lexer": "ipython3",
   "version": "3.10.15"
  }
 },
 "nbformat": 4,
 "nbformat_minor": 5
}
