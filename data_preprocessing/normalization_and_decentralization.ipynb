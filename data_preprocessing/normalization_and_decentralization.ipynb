{
 "cells": [
  {
   "cell_type": "code",
   "execution_count": 1,
   "id": "c2dbbfbf",
   "metadata": {},
   "outputs": [],
   "source": [
    "import os\n",
    "import glob\n",
    "import numpy as np"
   ]
  },
  {
   "cell_type": "code",
   "execution_count": null,
   "id": "a58d7552",
   "metadata": {},
   "outputs": [],
   "source": [
    "def normalize_and_center(audio):\n",
    "    # 最大幅度，做归一化\n",
    "    max_amp = np.max(np.abs(audio))\n",
    "    if max_amp > 0:\n",
    "        normalized_audio = audio / max_amp\n",
    "    else:\n",
    "        normalized_audio = audio\n",
    "    # 去中心化\n",
    "    normalized_center_audio = normalized_audio - normalized_audio.mean()\n",
    "    return normalized_center_audio\n"
   ]
  },
  {
   "cell_type": "code",
   "execution_count": null,
   "id": "41ac87f8",
   "metadata": {},
   "outputs": [],
   "source": [
    "# 音频文件夹路径\n",
    "audio_folder = r\"E:\\数据集\\ShipEar\\shipsEar_AUDIOS\"\n",
    "output_folder = r\"E:\\数据集\\ShipEar\\data_preprocessing\\Normal_decent\"\n",
    "# 获取文件夹中所有音频文件路径\n",
    "audio_files = glob.glob(os.path.join(audio_folder, \"*.wav\"))"
   ]
  },
  {
   "cell_type": "code",
   "execution_count": null,
   "id": "837f0b99",
   "metadata": {},
   "outputs": [],
   "source": [
    "# 遍历每个音频文件\n",
    "for file in audio_files:\n",
    "    # 读取音频文件\n",
    "    audio, sr = librosa.load(file, sr=None)\n",
    "\n",
    "    # 归一化和去中心化\n",
    "    audio = normalize_and_center(audio)\n",
    "    filename = os.path.splitext(os.path.basename(file))[0]\n",
    "\n",
    "    # 保存音频文件\n",
    "    save_file = os.path.join(output_folder, filename + \".wav\")\n",
    "    sf.write(save_file, audio, sr)\n",
    "\n",
    "    print(f\"{file} processed and saved.\")\n",
    "print(\"All files processed.\")"
   ]
  }
 ],
 "metadata": {
  "kernelspec": {
   "display_name": "pytorch_env",
   "language": "python",
   "name": "python3"
  },
  "language_info": {
   "codemirror_mode": {
    "name": "ipython",
    "version": 3
   },
   "file_extension": ".py",
   "mimetype": "text/x-python",
   "name": "python",
   "nbconvert_exporter": "python",
   "pygments_lexer": "ipython3",
   "version": "3.10.15"
  }
 },
 "nbformat": 4,
 "nbformat_minor": 5
}
