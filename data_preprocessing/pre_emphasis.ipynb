{
 "cells": [
  {
   "cell_type": "code",
   "execution_count": 1,
   "id": "319af24f",
   "metadata": {},
   "outputs": [],
   "source": [
    "import os\n",
    "import numpy as np\n",
    "import scipy.signal as signal\n",
    "import soundfile as sf"
   ]
  },
  {
   "cell_type": "code",
   "execution_count": null,
   "id": "c05fb4dd",
   "metadata": {},
   "outputs": [],
   "source": [
    "# 定义预加重滤波器系数\n",
    "alpha = 0.97\n",
    "\n",
    "# 定义处理文件夹路径\n",
    "folder_path = r'E:\\Models\\ShipsEar-master\\data_preprocessing\\'\n",
    "save_folder_path = r\"E:\\Models\\ShipsEar-master\\data_preprocessing\\pre-emphasis\"\n",
    "\n",
    "# 获取文件夹中的音频文件列表\n",
    "audio_files = [f for f in os.listdir(folder_path) if f.endswith('.wav')]\n",
    "\n",
    "for audio_file in audio_files:\n",
    "    # 读取音频文件\n",
    "    audio_path = os.path.join(folder_path, audio_file)\n",
    "    audio_data, sr = sf.read(audio_path)\n",
    "\n",
    "    # 计算预加重系数\n",
    "    pre_emphasis = np.array([1, -alpha])\n",
    "    audio_data_pre_emphasis = signal.lfilter(pre_emphasis, 1, audio_data)\n",
    "\n",
    "    # 保存预加重后的音频文件\n",
    "    save_file = os.path.join(save_folder_path, audio_file)\n",
    "    sf.write(save_file, audio_data_pre_emphasis, sr)\n",
    "    print(f\"{audio_file} processed and saved.\")\n",
    "print(\"All files processed.\")\n"
   ]
  }
 ],
 "metadata": {
  "kernelspec": {
   "display_name": "pytorch_env",
   "language": "python",
   "name": "python3"
  },
  "language_info": {
   "codemirror_mode": {
    "name": "ipython",
    "version": 3
   },
   "file_extension": ".py",
   "mimetype": "text/x-python",
   "name": "python",
   "nbconvert_exporter": "python",
   "pygments_lexer": "ipython3",
   "version": "3.10.15"
  }
 },
 "nbformat": 4,
 "nbformat_minor": 5
}
