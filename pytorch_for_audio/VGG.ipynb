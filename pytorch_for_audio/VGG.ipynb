{
 "cells": [
  {
   "cell_type": "code",
   "execution_count": 23,
   "id": "065f9339",
   "metadata": {},
   "outputs": [],
   "source": [
    "import torch\n",
    "from torch import nn\n",
    "from torchinfo import summary"
   ]
  },
  {
   "cell_type": "code",
   "execution_count": 37,
   "id": "9f3c3840",
   "metadata": {},
   "outputs": [],
   "source": [
    "class VGG(nn.Module):\n",
    "    def __init__(self):\n",
    "        super().__init__()\n",
    "\n",
    "        self.conv1 = nn.Sequential(\n",
    "            nn.Conv2d(\n",
    "                in_channels=1, \n",
    "                out_channels=16, \n",
    "                kernel_size=3, \n",
    "                stride=1,\n",
    "                padding=2\n",
    "            ),\n",
    "            nn.ReLU(),\n",
    "            nn.MaxPool2d(\n",
    "                kernel_size=2\n",
    "            )\n",
    "        )\n",
    "\n",
    "        self.conv2 = nn.Sequential(\n",
    "            nn.Conv2d(\n",
    "                in_channels=16, \n",
    "                out_channels=32, \n",
    "                kernel_size=3, \n",
    "                stride=1,\n",
    "                padding=2\n",
    "            ),\n",
    "            nn.ReLU(),\n",
    "            nn.MaxPool2d(\n",
    "                kernel_size=2\n",
    "            )\n",
    "        )\n",
    "\n",
    "        self.conv3 = nn.Sequential(\n",
    "            nn.Conv2d(\n",
    "                in_channels=32, \n",
    "                out_channels=64, \n",
    "                kernel_size=3, \n",
    "                stride=1,\n",
    "                padding=2\n",
    "            ),\n",
    "            nn.ReLU(),\n",
    "            nn.MaxPool2d(\n",
    "                kernel_size=2\n",
    "            )\n",
    "        )\n",
    "\n",
    "        self.conv4 = nn.Sequential(\n",
    "            nn.Conv2d(\n",
    "                in_channels=64, \n",
    "                out_channels=128, \n",
    "                kernel_size=3, \n",
    "                stride=1,\n",
    "                padding=2\n",
    "            ),\n",
    "            nn.ReLU(),\n",
    "            nn.MaxPool2d(\n",
    "                kernel_size=2\n",
    "            )\n",
    "        )\n",
    "\n",
    "        self.flatten = nn.Flatten()\n",
    "        self.linear = nn.Linear(128 * 9 * 7, 5)\n",
    "        self.softmax = nn.Softmax(dim=1)\n",
    "\n",
    "    def forward(self, x):\n",
    "        x = self.conv1(x)\n",
    "        x = self.conv2(x)\n",
    "        x = self.conv3(x)\n",
    "        x = self.conv4(x)\n",
    "        x = self.flatten(x)\n",
    "        x = self.linear(x)\n",
    "        x = self.softmax(x)\n",
    "        return x\n"
   ]
  },
  {
   "cell_type": "code",
   "execution_count": 38,
   "id": "4fc22691",
   "metadata": {},
   "outputs": [
    {
     "name": "stdout",
     "output_type": "stream",
     "text": [
      "Using device: cuda\n"
     ]
    },
    {
     "data": {
      "text/plain": [
       "==========================================================================================\n",
       "Layer (type:depth-idx)                   Output Shape              Param #\n",
       "==========================================================================================\n",
       "VGG                                      [1, 5]                    --\n",
       "├─Sequential: 1-1                        [1, 16, 65, 44]           --\n",
       "│    └─Conv2d: 2-1                       [1, 16, 130, 89]          160\n",
       "│    └─ReLU: 2-2                         [1, 16, 130, 89]          --\n",
       "│    └─MaxPool2d: 2-3                    [1, 16, 65, 44]           --\n",
       "├─Sequential: 1-2                        [1, 32, 33, 23]           --\n",
       "│    └─Conv2d: 2-4                       [1, 32, 67, 46]           4,640\n",
       "│    └─ReLU: 2-5                         [1, 32, 67, 46]           --\n",
       "│    └─MaxPool2d: 2-6                    [1, 32, 33, 23]           --\n",
       "├─Sequential: 1-3                        [1, 64, 17, 12]           --\n",
       "│    └─Conv2d: 2-7                       [1, 64, 35, 25]           18,496\n",
       "│    └─ReLU: 2-8                         [1, 64, 35, 25]           --\n",
       "│    └─MaxPool2d: 2-9                    [1, 64, 17, 12]           --\n",
       "├─Sequential: 1-4                        [1, 128, 9, 7]            --\n",
       "│    └─Conv2d: 2-10                      [1, 128, 19, 14]          73,856\n",
       "│    └─ReLU: 2-11                        [1, 128, 19, 14]          --\n",
       "│    └─MaxPool2d: 2-12                   [1, 128, 9, 7]            --\n",
       "├─Flatten: 1-5                           [1, 8064]                 --\n",
       "├─Linear: 1-6                            [1, 5]                    40,325\n",
       "├─Softmax: 1-7                           [1, 5]                    --\n",
       "==========================================================================================\n",
       "Total params: 137,477\n",
       "Trainable params: 137,477\n",
       "Non-trainable params: 0\n",
       "Total mult-adds (M): 52.02\n",
       "==========================================================================================\n",
       "Input size (MB): 0.04\n",
       "Forward/backward pass size (MB): 2.99\n",
       "Params size (MB): 0.55\n",
       "Estimated Total Size (MB): 3.58\n",
       "=========================================================================================="
      ]
     },
     "execution_count": 38,
     "metadata": {},
     "output_type": "execute_result"
    }
   ],
   "source": [
    "vgg = VGG()\n",
    "\n",
    "device = torch.device('cuda' if torch.cuda.is_available() else 'cpu')\n",
    "print(f\"Using device: {device}\")\n",
    "summary(vgg, (1, 1, 128, 87), device=device)"
   ]
  }
 ],
 "metadata": {
  "kernelspec": {
   "display_name": "pytorch_env",
   "language": "python",
   "name": "python3"
  },
  "language_info": {
   "codemirror_mode": {
    "name": "ipython",
    "version": 3
   },
   "file_extension": ".py",
   "mimetype": "text/x-python",
   "name": "python",
   "nbconvert_exporter": "python",
   "pygments_lexer": "ipython3",
   "version": "3.10.15"
  }
 },
 "nbformat": 4,
 "nbformat_minor": 5
}
