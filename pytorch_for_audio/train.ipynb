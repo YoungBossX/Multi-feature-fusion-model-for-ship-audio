{
 "cells": [
  {
   "cell_type": "code",
   "execution_count": 1,
   "id": "5fd37926",
   "metadata": {},
   "outputs": [],
   "source": [
    "import torch\n",
    "import torch.nn as nn\n",
    "import torchaudio\n",
    "from torch.utils.data import DataLoader\n",
    "\n",
    "from VGG import VGG\n",
    "from dataset import ShipEarDataset"
   ]
  },
  {
   "cell_type": "code",
   "execution_count": 2,
   "id": "766b91bc",
   "metadata": {},
   "outputs": [],
   "source": [
    "ANNOTATIONS_FILE = \"../label_process/label.csv\"\n",
    "AUDIO_DIR = r\"E:\\数据集\\ShipEar\\shipsEar_AUDIOS\"\n",
    "SAMPLE_RATE = 22050\n",
    "NUM_SAMPLES = 44100\n",
    "\n",
    "BATCH_SIZE = 128\n",
    "EPOCHS = 10\n",
    "LEARNING_RATE = 0.001"
   ]
  },
  {
   "cell_type": "code",
   "execution_count": 3,
   "id": "f83637da",
   "metadata": {},
   "outputs": [],
   "source": [
    "def create_data_loader(train_data, batch_size):\n",
    "    train_dataloader = DataLoader(train_data, batch_size=batch_size)\n",
    "    return train_dataloader"
   ]
  },
  {
   "cell_type": "code",
   "execution_count": 4,
   "id": "2243ad56",
   "metadata": {},
   "outputs": [],
   "source": [
    "def train(model, data_loader, loss_fn, optimiser, device, epochs):\n",
    "    for i in range(epochs):\n",
    "        print(f\"Epoch {i+1}\")\n",
    "        for input, target in data_loader:\n",
    "            input, target = input.to(device), target.to(device)\n",
    "            prediction = model(input)\n",
    "            loss = loss_fn(prediction, target)\n",
    "            optimiser.zero_grad()\n",
    "            loss.backward()\n",
    "            optimiser.step()\n",
    "        print(f\"loss: {loss.item()}\")\n",
    "        print(\"-----------------------------------------------\")\n",
    "    print(\"Finished training!\")"
   ]
  },
  {
   "cell_type": "code",
   "execution_count": 5,
   "id": "d37ae55f",
   "metadata": {},
   "outputs": [
    {
     "name": "stdout",
     "output_type": "stream",
     "text": [
      "Using cuda\n",
      "Epoch 1\n",
      "loss: 1.5757983922958374\n",
      "-----------------------------------------------\n",
      "Epoch 2\n",
      "loss: 1.5484259128570557\n",
      "-----------------------------------------------\n",
      "Epoch 3\n",
      "loss: 1.492844820022583\n",
      "-----------------------------------------------\n",
      "Epoch 4\n",
      "loss: 1.4680709838867188\n",
      "-----------------------------------------------\n",
      "Epoch 5\n",
      "loss: 1.431103229522705\n",
      "-----------------------------------------------\n",
      "Epoch 6\n",
      "loss: 1.4545822143554688\n",
      "-----------------------------------------------\n",
      "Epoch 7\n",
      "loss: 1.4080268144607544\n",
      "-----------------------------------------------\n",
      "Epoch 8\n",
      "loss: 1.3925304412841797\n",
      "-----------------------------------------------\n",
      "Epoch 9\n",
      "loss: 1.3796359300613403\n",
      "-----------------------------------------------\n",
      "Epoch 10\n",
      "loss: 1.3775659799575806\n",
      "-----------------------------------------------\n",
      "Finished training!\n",
      "Saved.\n"
     ]
    }
   ],
   "source": [
    "if torch.cuda.is_available():\n",
    "    device = \"cuda\"\n",
    "else:\n",
    "    device = \"cpu\"\n",
    "print(f\"Using {device}\")\n",
    "\n",
    "mel_spectrogram = torchaudio.transforms.MelSpectrogram(\n",
    "    sample_rate=SAMPLE_RATE,\n",
    "    n_fft=2048,\n",
    "    hop_length=512,\n",
    "    n_mels=128\n",
    ")\n",
    "\n",
    "shipear = ShipEarDataset(\n",
    "    ANNOTATIONS_FILE,\n",
    "    AUDIO_DIR,\n",
    "    mel_spectrogram,\n",
    "    SAMPLE_RATE,\n",
    "    NUM_SAMPLES,\n",
    "    device\n",
    ")\n",
    "\n",
    "train_dataloader = create_data_loader(shipear, BATCH_SIZE)\n",
    "\n",
    "vgg = VGG().to(device)\n",
    "loss_fn = nn.CrossEntropyLoss()\n",
    "optimiser = torch.optim.Adam(vgg.parameters(), lr=LEARNING_RATE)\n",
    "\n",
    "train(vgg, train_dataloader, loss_fn, optimiser, device, EPOCHS)\n",
    "torch.save(vgg.state_dict(), \"shipear.pt\")\n",
    "print(\"Saved.\")"
   ]
  }
 ],
 "metadata": {
  "kernelspec": {
   "display_name": "pytorch_env",
   "language": "python",
   "name": "python3"
  },
  "language_info": {
   "codemirror_mode": {
    "name": "ipython",
    "version": 3
   },
   "file_extension": ".py",
   "mimetype": "text/x-python",
   "name": "python",
   "nbconvert_exporter": "python",
   "pygments_lexer": "ipython3",
   "version": "3.10.15"
  }
 },
 "nbformat": 4,
 "nbformat_minor": 5
}
