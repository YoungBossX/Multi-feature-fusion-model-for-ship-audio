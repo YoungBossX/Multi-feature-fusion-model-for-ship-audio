{
 "cells": [
  {
   "cell_type": "code",
   "execution_count": 5,
   "id": "72e1a83d",
   "metadata": {},
   "outputs": [],
   "source": [
    "from torch.utils.data import Dataset\n",
    "import pandas as pd\n",
    "import torchaudio\n",
    "import os"
   ]
  },
  {
   "cell_type": "code",
   "execution_count": 22,
   "id": "7d154276",
   "metadata": {},
   "outputs": [],
   "source": [
    "class ShipEarDataset(Dataset):\n",
    "    def __init__(self, annotations_file, audio_dir):\n",
    "        self.annotations = pd.read_csv(annotations_file)\n",
    "        self.audio_dir = audio_dir\n",
    "\n",
    "    def __len__(self):\n",
    "        return len(self.annotations)\n",
    "\n",
    "    def __getitem__(self, index):\n",
    "        audio_sample_path = self._get_audio_sample_path(index)\n",
    "        label = self._get_audio_sample_label(index)\n",
    "        signal, sr = torchaudio.load(audio_sample_path)\n",
    "        return signal, label\n",
    "\n",
    "    def _get_audio_sample_path(self, index):\n",
    "        filename = self.annotations.iloc[index, 0]\n",
    "        path = os.path.join(self.audio_dir, filename)\n",
    "        return path\n",
    "    \n",
    "    def _get_audio_sample_label(self, index):\n",
    "        return self.annotations.iloc[index, 1]"
   ]
  },
  {
   "cell_type": "code",
   "execution_count": 23,
   "id": "22e60ec7",
   "metadata": {},
   "outputs": [
    {
     "name": "stdout",
     "output_type": "stream",
     "text": [
      "There are 90 sample in the dataset.\n",
      "audio.shape: torch.Size([1, 3176870])\n",
      "label: 0\n"
     ]
    }
   ],
   "source": [
    "annotations_file = \"../label_process/label.csv\"\n",
    "audio_dir = r\"E:\\数据集\\ShipEar\\shipsEar_AUDIOS\"\n",
    "ship_ear_dataset = ShipEarDataset(annotations_file, audio_dir)\n",
    "print(f\"There are {ship_ear_dataset.__len__()} sample in the dataset.\")\n",
    "audio, label = ship_ear_dataset.__getitem__(0)\n",
    "print(f\"audio.shape: {audio.shape}\")\n",
    "print(f\"label: {label}\")"
   ]
  }
 ],
 "metadata": {
  "kernelspec": {
   "display_name": "pytorch_env",
   "language": "python",
   "name": "python3"
  },
  "language_info": {
   "codemirror_mode": {
    "name": "ipython",
    "version": 3
   },
   "file_extension": ".py",
   "mimetype": "text/x-python",
   "name": "python",
   "nbconvert_exporter": "python",
   "pygments_lexer": "ipython3",
   "version": "3.10.15"
  }
 },
 "nbformat": 4,
 "nbformat_minor": 5
}
