{
 "cells": [
  {
   "cell_type": "code",
   "execution_count": 41,
   "id": "72e1a83d",
   "metadata": {},
   "outputs": [],
   "source": [
    "import torch\n",
    "from torch.utils.data import Dataset\n",
    "import pandas as pd\n",
    "import torchaudio\n",
    "import os"
   ]
  },
  {
   "cell_type": "code",
   "execution_count": 45,
   "id": "7d154276",
   "metadata": {},
   "outputs": [],
   "source": [
    "class ShipEarDataset(Dataset):\n",
    "    def __init__(self, annotations_file, audio_dir, transformation, target_get_sample_rate, num_samples, device):\n",
    "        self.annotations = pd.read_csv(annotations_file)\n",
    "        self.audio_dir = audio_dir\n",
    "        self.device = device\n",
    "        self.transformation = transformation.to(self.device)\n",
    "        self.target_get_sample_rate = target_get_sample_rate\n",
    "        self.num_samples = num_samples\n",
    "\n",
    "    def __len__(self):\n",
    "        return len(self.annotations)\n",
    "\n",
    "    def __getitem__(self, index):\n",
    "        audio_sample_path = self._get_audio_sample_path(index)\n",
    "        signal, sr = torchaudio.load(audio_sample_path)\n",
    "        signal = signal.to(self.device)\n",
    "        # signal -> (num_channels, samples)\n",
    "        label = self._get_audio_sample_label(index)\n",
    "        signal = self._resample_if_necessary(signal, sr)\n",
    "        signal = self._mix_down_if_necessary(signal)\n",
    "        signal = self._cut_if_necessary(signal)\n",
    "        signal = self._right_pad_if_necessary(signal)\n",
    "        signal = self.transformation(signal)\n",
    "        return signal, label\n",
    "\n",
    "    def _cut_if_necessary(self, signal):\n",
    "        # signal -> Tensor -> (num_channels, samples)\n",
    "        if signal.shape[1] > self.num_samples:\n",
    "            signal = signal[:, :self.num_samples]\n",
    "        return signal\n",
    "\n",
    "    def _right_pad_if_necessary(self, signal):\n",
    "        length_signal = signal.shape[1]\n",
    "        if length_signal < self.num_samples:\n",
    "            num_missing_samples = self.num_samples - length_signal\n",
    "            last_dim_padding = (0, num_missing_samples)\n",
    "            signal = torch.nn.functional.pad(signal, last_dim_padding)\n",
    "        return signal\n",
    "\n",
    "    def _resample_if_necessary(self, signal, sr):\n",
    "        if sr != self.target_get_sample_rate:\n",
    "            resampler = torchaudio.transforms.Resample(sr, self.target_get_sample_rate).to(self.device)\n",
    "            signal = resampler(signal)\n",
    "        return signal\n",
    "\n",
    "    def _mix_down_if_necessary(self, signal):\n",
    "        if signal.shape[0] > 1:\n",
    "            signal = torch.mean(signal, dim=0,  keepdim=True)\n",
    "        return signal\n",
    "\n",
    "    def _get_audio_sample_path(self, index):\n",
    "        filename = self.annotations.iloc[index, 0]\n",
    "        path = os.path.join(self.audio_dir, filename)\n",
    "        return path\n",
    "    \n",
    "    def _get_audio_sample_label(self, index):\n",
    "        return self.annotations.iloc[index, 1]"
   ]
  },
  {
   "cell_type": "code",
   "execution_count": 49,
   "id": "22e60ec7",
   "metadata": {},
   "outputs": [
    {
     "name": "stdout",
     "output_type": "stream",
     "text": [
      "Using device: cuda.\n",
      "There are 90 sample in the dataset.\n",
      "audio.shape: torch.Size([1, 128, 87])\n",
      "label: 0\n"
     ]
    }
   ],
   "source": [
    "annotations_file = \"../label_process/label.csv\"\n",
    "audio_dir = r\"E:\\数据集\\ShipEar\\shipsEar_AUDIOS\"\n",
    "\n",
    "SAMPLE_RATE = 22050\n",
    "NUM_SAMPLES = 44100\n",
    "\n",
    "if torch.cuda.is_available():\n",
    "    device = \"cuda\"\n",
    "else:\n",
    "    device = \"cpu\"\n",
    "print(f\"Using device: {device}.\")\n",
    "\n",
    "mel_spectrogram = torchaudio.transforms.MelSpectrogram(\n",
    "    sample_rate=SAMPLE_RATE,\n",
    "    n_fft=2048,\n",
    "    hop_length=512,\n",
    "    n_mels=128\n",
    ")\n",
    "\n",
    "ship_ear_dataset = ShipEarDataset(annotations_file, audio_dir, mel_spectrogram, SAMPLE_RATE, NUM_SAMPLES, device)\n",
    "print(f\"There are {ship_ear_dataset.__len__()} sample in the dataset.\")\n",
    "\n",
    "audio, label = ship_ear_dataset.__getitem__(0)\n",
    "print(f\"audio.shape: {audio.shape}\")\n",
    "print(f\"label: {label}\")"
   ]
  }
 ],
 "metadata": {
  "kernelspec": {
   "display_name": "pytorch_env",
   "language": "python",
   "name": "python3"
  },
  "language_info": {
   "codemirror_mode": {
    "name": "ipython",
    "version": 3
   },
   "file_extension": ".py",
   "mimetype": "text/x-python",
   "name": "python",
   "nbconvert_exporter": "python",
   "pygments_lexer": "ipython3",
   "version": "3.10.15"
  }
 },
 "nbformat": 4,
 "nbformat_minor": 5
}
