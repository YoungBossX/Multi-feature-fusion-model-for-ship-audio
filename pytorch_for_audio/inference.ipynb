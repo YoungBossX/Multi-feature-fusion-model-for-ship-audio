{
 "cells": [
  {
   "cell_type": "code",
   "execution_count": 28,
   "metadata": {},
   "outputs": [],
   "source": [
    "import torch\n",
    "import torchaudio\n",
    "\n",
    "from VGG import VGG\n",
    "from dataset import ShipEarDataset"
   ]
  },
  {
   "cell_type": "code",
   "execution_count": 29,
   "id": "8e997b3f",
   "metadata": {},
   "outputs": [],
   "source": [
    "ANNOTATIONS_FILE = \"../label_process/label.csv\"\n",
    "AUDIO_DIR = r\"E:\\数据集\\ShipEar\\shipsEar_AUDIOS\"\n",
    "SAMPLE_RATE = 22050\n",
    "NUM_SAMPLES = 44100\n",
    "\n",
    "class_mapping = [\n",
    "    \"Fishboat, Trawler, Mussel boat, Tugboat, Dredger\",\n",
    "    \"Motorboat, Pilot ship, Sailboat\",\n",
    "    \"Passengers\",\n",
    "    \"Ocean liner, RORO\",\n",
    "    \"Natural ambient noise\"\n",
    "]"
   ]
  },
  {
   "cell_type": "code",
   "execution_count": 30,
   "id": "dabb95af",
   "metadata": {},
   "outputs": [],
   "source": [
    "def predict(model, input, target, class_mapping):\n",
    "    model.eval()\n",
    "    with torch.no_grad():\n",
    "        predictions = model(input)\n",
    "        predicted_index = predictions[0].argmax(0)\n",
    "        predicted = class_mapping[predicted_index]\n",
    "        expected = class_mapping[target]\n",
    "    return predicted, expected"
   ]
  },
  {
   "cell_type": "code",
   "execution_count": 34,
   "id": "dfd9bbcc",
   "metadata": {},
   "outputs": [
    {
     "name": "stdout",
     "output_type": "stream",
     "text": [
      "torch.Size([1, 128, 87])\n",
      "torch.Size([1, 1, 128, 87])\n",
      "Predicted: 'Motorboat, Pilot ship, Sailboat', expected: 'Passengers'\n"
     ]
    }
   ],
   "source": [
    "vgg = VGG()\n",
    "state_dict = torch.load(\"shipear.pt\", weights_only=True)\n",
    "vgg.load_state_dict(state_dict)\n",
    "\n",
    "mel_spectrogram = torchaudio.transforms.MelSpectrogram(\n",
    "    sample_rate=SAMPLE_RATE,\n",
    "    n_fft=2048,\n",
    "    hop_length=512,\n",
    "    n_mels=128\n",
    ")\n",
    "\n",
    "shipear = ShipEarDataset(ANNOTATIONS_FILE,\n",
    "                        AUDIO_DIR,\n",
    "                        mel_spectrogram,\n",
    "                        SAMPLE_RATE,\n",
    "                        NUM_SAMPLES,\n",
    "                        \"cpu\")\n",
    "\n",
    "input, target = shipear[1][0], shipear[1][1]\n",
    "print(input.shape)\n",
    "input.unsqueeze_(0)\n",
    "print(input.shape)\n",
    "\n",
    "predicted, expected = predict(vgg, input, target,\n",
    "                                class_mapping)\n",
    "\n",
    "print(f\"Predicted: '{predicted}', expected: '{expected}'\")"
   ]
  }
 ],
 "metadata": {
  "kernelspec": {
   "display_name": "pytorch_env",
   "language": "python",
   "name": "python3"
  },
  "language_info": {
   "codemirror_mode": {
    "name": "ipython",
    "version": 3
   },
   "file_extension": ".py",
   "mimetype": "text/x-python",
   "name": "python",
   "nbconvert_exporter": "python",
   "pygments_lexer": "ipython3",
   "version": "3.10.15"
  }
 },
 "nbformat": 4,
 "nbformat_minor": 5
}
