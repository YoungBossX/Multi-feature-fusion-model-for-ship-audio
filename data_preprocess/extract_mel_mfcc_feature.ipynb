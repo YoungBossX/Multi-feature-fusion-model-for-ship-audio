{
 "cells": [
  {
   "cell_type": "code",
   "execution_count": 8,
   "id": "76091a67",
   "metadata": {},
   "outputs": [],
   "source": [
    "import librosa\n",
    "import numpy as np\n",
    "import matplotlib.pyplot as plt\n",
    "import os\n",
    "import glob"
   ]
  },
  {
   "cell_type": "code",
   "execution_count": 6,
   "id": "11d87d9f",
   "metadata": {},
   "outputs": [],
   "source": [
    "SAMPLE_RATE = 16000\n",
    "N_MELS = 128\n",
    "N_MFCC = 40 \n",
    "N_FFT = 2048\n",
    "HOP_LENGTH = 512\n",
    "\n",
    "IN_DIR = r\"E:\\数据集\\ShipEar\\data_preprocessing\\3_Frame_Windows_2s_50%\"\n",
    "\n",
    "type_mapping = {\n",
    "    'Fishboat': 0,\n",
    "    'Trawler': 0,\n",
    "    'Mussel boat': 0,\n",
    "    'Tugboat': 0,\n",
    "    'Dredger': 0,\n",
    "\n",
    "    'Motorboat': 1,\n",
    "    'Pilot ship': 1,\n",
    "    'Sailboat': 1,\n",
    "\n",
    "    'Passengers': 2,\n",
    "\n",
    "    'Ocean liner': 3,\n",
    "    'RORO': 3,\n",
    "\n",
    "    'Natural ambient noise': 4\n",
    "}"
   ]
  },
  {
   "cell_type": "code",
   "execution_count": 1,
   "id": "cb4b1790",
   "metadata": {},
   "outputs": [],
   "source": [
    "def extract_mfcc_npy(in_dir, out_dir, samplerate, n_mfcc, n_fft, hop_length):\n",
    "    out_dir.mkdir(exist_ok=True)\n",
    "  \n",
    "    for wav in glob.glob(os.path.join(in_dir, '*.wav')):\n",
    "        y, sr = librosa.load(wav, sr=samplerate)\n",
    "        mel = librosa.feature.melspectrogram(y=y, sr=sr, n_mels=n_mels, n_fft=n_fft, hop_length=hop_length)\n",
    "        mel_db = librosa.power_to_db(mel, ref=np.max)\n",
    "        np.save(out_dir / f\"{wav.stem}.npy\", mel_db)"
   ]
  },
  {
   "cell_type": "code",
   "execution_count": null,
   "id": "a336a303",
   "metadata": {},
   "outputs": [],
   "source": []
  }
 ],
 "metadata": {
  "kernelspec": {
   "display_name": "pytorch_env",
   "language": "python",
   "name": "python3"
  },
  "language_info": {
   "codemirror_mode": {
    "name": "ipython",
    "version": 3
   },
   "file_extension": ".py",
   "mimetype": "text/x-python",
   "name": "python",
   "nbconvert_exporter": "python",
   "pygments_lexer": "ipython3",
   "version": "3.10.15"
  }
 },
 "nbformat": 4,
 "nbformat_minor": 5
}
