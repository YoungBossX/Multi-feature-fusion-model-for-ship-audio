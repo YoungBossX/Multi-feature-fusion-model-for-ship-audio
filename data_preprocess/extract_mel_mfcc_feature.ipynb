{
 "cells": [
  {
   "cell_type": "code",
   "execution_count": 1,
   "id": "76091a67",
   "metadata": {},
   "outputs": [],
   "source": [
    "import librosa\n",
    "import numpy as np\n",
    "import matplotlib.pyplot as plt\n",
    "import pandas as pd\n",
    "import os\n",
    "import glob"
   ]
  },
  {
   "cell_type": "code",
   "execution_count": 10,
   "id": "11d87d9f",
   "metadata": {},
   "outputs": [],
   "source": [
    "SAMPLE_RATE = 16000\n",
    "N_MEL = 128\n",
    "N_MFCC = 40 \n",
    "N_FFT = 2048\n",
    "HOP_LENGTH = 512\n",
    "\n",
    "ORIGINAL_LABEL_CSV = r\"E:\\数据集\\ShipEar\\data_preprocessing\\shipsEar.xlsx\"\n",
    "IN_DIR = r\"E:\\数据集\\ShipEar\\data_preprocessing\\4_Frame_Windows_2s_50%\"\n",
    "\n",
    "type_mapping = {\n",
    "    'Fishboat': 0,\n",
    "    'Trawler': 0,\n",
    "    'Mussel boat': 0,\n",
    "    'Tugboat': 0,\n",
    "    'Dredger': 0,\n",
    "\n",
    "    'Motorboat': 1,\n",
    "    'Pilot ship': 1,\n",
    "    'Sailboat': 1,\n",
    "\n",
    "    'Passengers': 2,\n",
    "\n",
    "    'Ocean liner': 3,\n",
    "    'RORO': 3,\n",
    "\n",
    "    'Natural ambient noise': 4\n",
    "}"
   ]
  },
  {
   "cell_type": "code",
   "execution_count": 13,
   "id": "cb4b1790",
   "metadata": {},
   "outputs": [],
   "source": [
    "def extract_mel_npy(in_dir, out_dir, samplerate, n_mels, n_fft, hop_length):\n",
    "    os.makedirs(out_dir, exist_ok=True)\n",
    "  \n",
    "    for wav in glob.glob(os.path.join(in_dir, '*.wav')):\n",
    "        y, sr = librosa.load(wav, sr=samplerate)\n",
    "        mel = librosa.feature.melspectrogram(y=y, sr=sr, n_mels=n_mels, n_fft=n_fft, hop_length=hop_length)\n",
    "        mel_db = librosa.power_to_db(mel, ref=np.max)\n",
    "        filename = os.path.splitext(os.path.basename(wav))[0]\n",
    "        output_path = os.path.join(out_dir, f\"{filename}.npy\")\n",
    "        np.save(output_path, mel_db)"
   ]
  },
  {
   "cell_type": "code",
   "execution_count": 14,
   "id": "a336a303",
   "metadata": {},
   "outputs": [],
   "source": [
    "def extract_mfcc_npy(in_dir, out_dir, samplerate, n_mfcc):\n",
    "    os.makedirs(out_dir, exist_ok=True)\n",
    "    for wav in glob.glob(os.path.join(in_dir, '*.wav')):\n",
    "        y, sr = librosa.load(wav, sr=samplerate)\n",
    "        mfcc = librosa.feature.mfcc(y=y, sr=sr, n_mfcc=n_mfcc)\n",
    "        filename = os.path.splitext(os.path.basename(wav))[0]\n",
    "        output_path = os.path.join(out_dir, f\"{filename}.npy\")\n",
    "        np.save(output_path, mfcc)"
   ]
  },
  {
   "cell_type": "code",
   "execution_count": 15,
   "id": "1ce524af",
   "metadata": {},
   "outputs": [],
   "source": [
    "def create_segmented_label_csv(feature_dir, original_label_csv, output_csv, ext):\n",
    "    original_df = pd.read_excel(original_label_csv)\n",
    "\n",
    "    filename_to_info = {}\n",
    "    for _, row in original_df.iterrows():\n",
    "        base_filename = row['Filename'].replace('.wav', '')\n",
    "        original_id = int(base_filename.split('__')[0])\n",
    "        ship_type = row['Type']\n",
    "        class_id = type_mapping.get(ship_type)\n",
    "        filename_to_info[base_filename] = {\n",
    "            'original_id' : original_id,\n",
    "            'ship_type' : ship_type,\n",
    "            'class_id' : class_id\n",
    "        }\n",
    "    \n",
    "    feature_dir = os.path.join(feature_dir, f'*.{ext}')\n",
    "    feature_files = sorted(glob.glob(feature_dir))\n",
    "\n",
    "    rows = []\n",
    "\n",
    "    for feature_file in feature_files:\n",
    "        segment_filename = os.path.splitext(os.path.basename(feature_file))[0]\n",
    "        parts = segment_filename.split('_')\n",
    "        segment_num = parts[-1]\n",
    "        original_filename = '_'.join(parts[:-1])\n",
    "\n",
    "        file_info = filename_to_info.get(original_filename)\n",
    "        original_id = file_info['original_id']\n",
    "        class_id = file_info['class_id']\n",
    "        ship_type = file_info['ship_type']\n",
    "\n",
    "        rows.append({\n",
    "            'ID': original_id,\n",
    "            'Filename': original_filename,\n",
    "            'SegmentedFilename': segment_filename, \n",
    "            'Type': ship_type,\n",
    "            'ClassID': class_id\n",
    "        })\n",
    "\n",
    "    result_df = pd.DataFrame(rows).sort_values(['ID', 'SegmentedFilename'])\n",
    "    output_dir = os.path.dirname(output_csv)\n",
    "    os.makedirs(output_dir, exist_ok=True)\n",
    "    result_df.to_csv(output_csv, index=False)\n",
    "    print(f\"生成标注文件完成！共处理 {len(rows)} 个文件。\")"
   ]
  },
  {
   "cell_type": "code",
   "execution_count": 16,
   "id": "bd137476",
   "metadata": {},
   "outputs": [],
   "source": [
    "MEL_OUT_DIR = r\"E:\\数据集\\ShipEar\\data_preprocessing\\5_Frame_Windows_2s_50%_mel_feature\"\n",
    "extract_mel_npy(IN_DIR, MEL_OUT_DIR, SAMPLE_RATE, N_MEL, N_FFT, HOP_LENGTH)"
   ]
  },
  {
   "cell_type": "code",
   "execution_count": 17,
   "id": "537f0480",
   "metadata": {},
   "outputs": [
    {
     "name": "stdout",
     "output_type": "stream",
     "text": [
      "生成标注文件完成！共处理 11210 个文件。\n"
     ]
    }
   ],
   "source": [
    "MEL_OUT_DIR = r\"E:\\数据集\\ShipEar\\data_preprocessing\\5_Frame_Windows_2s_50%_mel_feature\"\n",
    "MEL_OUT_CSV = os.path.join(MEL_OUT_DIR, \"MEL.csv\")\n",
    "create_segmented_label_csv(MEL_OUT_DIR, ORIGINAL_LABEL_CSV, MEL_OUT_CSV, \"npy\")"
   ]
  },
  {
   "cell_type": "code",
   "execution_count": 18,
   "id": "43f12551",
   "metadata": {},
   "outputs": [],
   "source": [
    "MFCC_OUT_DIR = r\"E:\\数据集\\ShipEar\\data_preprocessing\\6_Frame_Windows_2s_50%_mfcc_feature\"\n",
    "extract_mfcc_npy(IN_DIR, MFCC_OUT_DIR, SAMPLE_RATE, N_MFCC)"
   ]
  },
  {
   "cell_type": "code",
   "execution_count": 19,
   "id": "f9c98d9b",
   "metadata": {},
   "outputs": [
    {
     "name": "stdout",
     "output_type": "stream",
     "text": [
      "生成标注文件完成！共处理 11210 个文件。\n"
     ]
    }
   ],
   "source": [
    "MFCC_OUT_DIR = r\"E:\\数据集\\ShipEar\\data_preprocessing\\6_Frame_Windows_2s_50%_mfcc_feature\"\n",
    "MFCC_OUT_CSV = os.path.join(MFCC_OUT_DIR, \"MFCC.csv\")\n",
    "create_segmented_label_csv(MFCC_OUT_DIR, ORIGINAL_LABEL_CSV, MFCC_OUT_CSV, \"npy\")"
   ]
  }
 ],
 "metadata": {
  "kernelspec": {
   "display_name": "pytorch_env",
   "language": "python",
   "name": "python3"
  },
  "language_info": {
   "codemirror_mode": {
    "name": "ipython",
    "version": 3
   },
   "file_extension": ".py",
   "mimetype": "text/x-python",
   "name": "python",
   "nbconvert_exporter": "python",
   "pygments_lexer": "ipython3",
   "version": "3.10.15"
  }
 },
 "nbformat": 4,
 "nbformat_minor": 5
}
