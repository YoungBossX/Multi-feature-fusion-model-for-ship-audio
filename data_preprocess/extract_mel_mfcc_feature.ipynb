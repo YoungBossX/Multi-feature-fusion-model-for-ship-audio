{
 "cells": [
  {
   "cell_type": "code",
   "execution_count": 5,
   "id": "76091a67",
   "metadata": {},
   "outputs": [],
   "source": [
    "import librosa\n",
    "import numpy as np\n",
    "import matplotlib.pyplot as plt\n",
    "import pandas as pd\n",
    "import os\n",
    "import glob"
   ]
  },
  {
   "cell_type": "code",
   "execution_count": 2,
   "id": "11d87d9f",
   "metadata": {},
   "outputs": [],
   "source": [
    "SAMPLE_RATE = 16000\n",
    "N_MEL = 128\n",
    "N_MFCC = 40 \n",
    "N_FFT = 2048\n",
    "HOP_LENGTH = 512\n",
    "\n",
    "IN_DIR = r\"E:\\数据集\\ShipEar\\data_preprocessing\\4_Frame_Windows_2s_50%\""
   ]
  },
  {
   "cell_type": "code",
   "execution_count": 3,
   "id": "cb4b1790",
   "metadata": {},
   "outputs": [],
   "source": [
    "def extract_mel_npy(in_dir, out_dir, samplerate, n_mels, n_fft, hop_length):\n",
    "    os.makedirs(out_dir, exist_ok=True)\n",
    "  \n",
    "    for wav in glob.glob(os.path.join(in_dir, '*.wav')):\n",
    "        y, sr = librosa.load(wav, sr=samplerate)\n",
    "        mel = librosa.feature.melspectrogram(y=y, sr=sr, n_mels=n_mels, n_fft=n_fft, hop_length=hop_length)\n",
    "        mel_db = librosa.power_to_db(mel, ref=np.max)\n",
    "        filename = os.path.splitext(os.path.basename(wav))[0]\n",
    "        output_path = os.path.join(out_dir, f\"{filename}.npy\")\n",
    "        np.save(output_path, mel_db)"
   ]
  },
  {
   "cell_type": "code",
   "execution_count": 3,
   "id": "63920577",
   "metadata": {},
   "outputs": [],
   "source": [
    "def extract_mfcc_npy(in_dir, out_dir, samplerate, n_mfcc):\n",
    "    os.makedirs(out_dir, exist_ok=True)\n",
    "\n",
    "    for wav in glob.glob(os.path.join(in_dir, '*.wav')):\n",
    "        y, sr = librosa.load(wav, sr=samplerate)\n",
    "        mfcc = librosa.feature.mfcc(y=y, sr=sr, n_mfcc=n_mfcc)\n",
    "        filename = os.path.splitext(os.path.basename(wav))[0]\n",
    "        output_path = os.path.join(out_dir, f\"{filename}.npy\")\n",
    "        np.save(output_path, mfcc)"
   ]
  },
  {
   "cell_type": "code",
   "execution_count": 5,
   "id": "bd137476",
   "metadata": {},
   "outputs": [],
   "source": [
    "MEL_OUT_DIR = r\"E:\\数据集\\ShipEar\\data_preprocessing\\5_Frame_Windows_2s_50%_mel_feature\"\n",
    "extract_mel_npy(IN_DIR, MEL_OUT_DIR, SAMPLE_RATE, N_MEL, N_FFT, HOP_LENGTH)"
   ]
  },
  {
   "cell_type": "code",
   "execution_count": 6,
   "id": "46c01434",
   "metadata": {},
   "outputs": [],
   "source": [
    "MFCC_OUT_DIR = r\"E:\\数据集\\ShipEar\\data_preprocessing\\6_Frame_Windows_2s_50%_mfcc_feature\"\n",
    "extract_mfcc_npy(IN_DIR, MFCC_OUT_DIR, SAMPLE_RATE, N_MFCC)"
   ]
  }
 ],
 "metadata": {
  "kernelspec": {
   "display_name": "pytorch_env",
   "language": "python",
   "name": "python3"
  },
  "language_info": {
   "codemirror_mode": {
    "name": "ipython",
    "version": 3
   },
   "file_extension": ".py",
   "mimetype": "text/x-python",
   "name": "python",
   "nbconvert_exporter": "python",
   "pygments_lexer": "ipython3",
   "version": "3.10.15"
  }
 },
 "nbformat": 4,
 "nbformat_minor": 5
}
