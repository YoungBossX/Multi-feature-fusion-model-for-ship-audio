{
 "cells": [
  {
   "cell_type": "code",
   "execution_count": 16,
   "id": "82054e5e",
   "metadata": {},
   "outputs": [],
   "source": [
    "import os\n",
    "import shutil\n",
    "import torchaudio"
   ]
  },
  {
   "cell_type": "code",
   "execution_count": 17,
   "id": "3e1c42a1",
   "metadata": {},
   "outputs": [],
   "source": [
    "def class12_split(wavs):\n",
    "    train_files, test_files = [], []\n",
    "    for wav in wavs:\n",
    "        if wav.split('.')[-1] != 'wav':\n",
    "            continue\n",
    "\n",
    "        if int(wav.split('__')[0]) in [80,94,96,73,74,76,27,33,39,45,50,52,70,72,77,79,47,48,49,82,83,84,86,87,89,90,91,92,16,23,25,69,71,6,8,9,10,11,12,13,17,32,34,36,38,41,42,53,55,59,60,62,63,64,65,67,29,18,19,58,37,57,68,15]:\n",
    "            train_files.append(wav)\n",
    "\n",
    "        elif int(wav.split('__')[0]) in [93,95,75,21,26,51,46,66,81,85,88,22,24,7,14,35,40,43,54,61,30,20,78,56,31]:\n",
    "            test_files.append(wav)\n",
    "        else:\n",
    "            print(wav,' is excluded!')\n",
    "        \n",
    "    return train_files, test_files"
   ]
  },
  {
   "cell_type": "code",
   "execution_count": 18,
   "id": "ff382ca6",
   "metadata": {},
   "outputs": [
    {
     "name": "stdout",
     "output_type": "stream",
     "text": [
      "28__19_07_13_NuevoRiaAldan.wav  is excluded!\n"
     ]
    }
   ],
   "source": [
    "wavs_path = r'E:\\数据集\\ShipEar\\data_preprocessing\\3_pre-emphasis'\n",
    "wavs = os.listdir(wavs_path)\n",
    "\n",
    "train12_files, test12_files = class12_split(wavs)\n",
    "out12_path = r'E:\\数据集\\ShipEar\\data_preprocessing\\shipsear_with_split-12class'\n",
    "if not os.path.exists(out12_path):\n",
    "    os.makedirs(os.path.join(out12_path,'train'))\n",
    "    os.makedirs(os.path.join(out12_path,'test'))\n",
    "\n",
    "for x in train12_files:\n",
    "    shutil.copy(os.path.join(wavs_path,x), os.path.join(out12_path,'train',x))\n",
    "for x in test12_files:\n",
    "    shutil.copy(os.path.join(wavs_path,x), os.path.join(out12_path,'test',x))\n",
    "\n",
    "# Cut clips for Trawler_28\n",
    "name = '28__19_07_13_NuevoRiaAldan.wav'\n",
    "waveform, sample_rate = torchaudio.load(os.path.join(wavs_path,name))\n",
    "duration = waveform.size(1) / sample_rate\n",
    "start_time = 125\n",
    "\n",
    "part1 = waveform[:, 15 * sample_rate:start_time * sample_rate]\n",
    "part2 = waveform[:, start_time * sample_rate:]\n",
    "\n",
    "# Save as WAV file\n",
    "torchaudio.save(os.path.join(out12_path,'train', name), part1, sample_rate, bits_per_sample=16)\n",
    "torchaudio.save(os.path.join(out12_path,'test', name), part2, sample_rate, bits_per_sample=16)\n"
   ]
  }
 ],
 "metadata": {
  "kernelspec": {
   "display_name": "pytorch_env",
   "language": "python",
   "name": "python3"
  },
  "language_info": {
   "codemirror_mode": {
    "name": "ipython",
    "version": 3
   },
   "file_extension": ".py",
   "mimetype": "text/x-python",
   "name": "python",
   "nbconvert_exporter": "python",
   "pygments_lexer": "ipython3",
   "version": "3.10.15"
  }
 },
 "nbformat": 4,
 "nbformat_minor": 5
}
