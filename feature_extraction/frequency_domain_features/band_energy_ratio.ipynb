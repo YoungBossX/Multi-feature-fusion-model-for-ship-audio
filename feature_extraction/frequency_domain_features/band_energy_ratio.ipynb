{
 "cells": [
  {
   "cell_type": "code",
   "execution_count": 1,
   "id": "ab965f2f",
   "metadata": {},
   "outputs": [],
   "source": [
    "import librosa\n",
    "import numpy as np\n",
    "import matplotlib.pyplot as plt"
   ]
  },
  {
   "cell_type": "code",
   "execution_count": 2,
   "id": "c648afec",
   "metadata": {},
   "outputs": [],
   "source": [
    "# 音频文件路径\n",
    "audio_file = r'E:\\数据集\\ShipEar\\data_preprocessing\\3_Frame_Windows_2s_50%\\6__10_07_13_marDeCangas_Entra_18.wav'\n",
    "\n",
    "waveform, sample_rate = librosa.load(audio_file, sr=22050)\n",
    "\n",
    "frame_length = 2048\n",
    "hop_length = 512"
   ]
  },
  {
   "cell_type": "code",
   "execution_count": 3,
   "id": "69e418b8",
   "metadata": {},
   "outputs": [],
   "source": [
    "waveforms_stft_librosa = librosa.stft(waveform, n_fft=frame_length, hop_length=hop_length)"
   ]
  },
  {
   "cell_type": "code",
   "execution_count": null,
   "id": "d3dc1663",
   "metadata": {},
   "outputs": [],
   "source": [
    "def calculate_split_frenquency_bin(spectrogram, split_frequency, sample_rate):\n",
    "    frequency_range = sample_rate / 2\n",
    "    # 每个频率仓的间隔\n",
    "    frequency_delta_per_bin = frequency_range / spectrogram.shape[0]\n",
    "    split_frequency_bin = np.floor((split_frequency / frequency_delta_per_bin))\n",
    "    return split_frequency_bin\n"
   ]
  }
 ],
 "metadata": {
  "kernelspec": {
   "display_name": "pytorch_env",
   "language": "python",
   "name": "python3"
  },
  "language_info": {
   "codemirror_mode": {
    "name": "ipython",
    "version": 3
   },
   "file_extension": ".py",
   "mimetype": "text/x-python",
   "name": "python",
   "nbconvert_exporter": "python",
   "pygments_lexer": "ipython3",
   "version": "3.10.15"
  }
 },
 "nbformat": 4,
 "nbformat_minor": 5
}
