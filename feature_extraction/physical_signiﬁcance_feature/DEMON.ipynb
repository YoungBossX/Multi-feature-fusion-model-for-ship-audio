{
 "cells": [
  {
   "cell_type": "markdown",
   "id": "1754b6b5",
   "metadata": {},
   "source": [
    "**用于估计幅度调制噪声包络的 DEMON 谱的 Python 实现。提供两个版本：平方律 DEMON 与希尔伯特变换 DEMON。根据具体应用场景，任一算法都可能更合适。两者都期望输入原始数据的数组以及滤波参数，并返回一个包含对输入数据包络估计值的输出数组。**\n"
   ]
  },
  {
   "cell_type": "code",
   "execution_count": 12,
   "id": "f6296aa4",
   "metadata": {},
   "outputs": [],
   "source": [
    "from scipy.signal import butter, lfilter, decimate, hilbert \n",
    "from numpy import square, sqrt, mean, abs \n",
    "from math import floor \n",
    "import librosa\n",
    "import matplotlib.pyplot as plt\n"
   ]
  },
  {
   "cell_type": "code",
   "execution_count": 22,
   "id": "6ab924b6",
   "metadata": {},
   "outputs": [],
   "source": [
    "def demon_square_law(x, cutoff=100.0, high=3000, low=2000, fs=22050):\n",
    "    \"\"\" \n",
    "    平方律DEMON算法\n",
    "    \n",
    "    :param x: 输入信号数组 (numpy.ndarray)\n",
    "    :param cutoff: 截止频率 (float)\n",
    "    :param high: 高频截止 (float)\n",
    "    :param low: 低频截止 (float)\n",
    "    :param fs: 采样频率 (float)\n",
    "    :return: 包络信号 (numpy.ndarray)\n",
    "    \"\"\" \n",
    "     # 检查参数是否满足带宽要求\n",
    "    if (high+low)/2 <= 2*(high-low): \n",
    "        raise Exception(\"Error, band width exceeds pass band center frequency\")\n",
    "    else:\n",
    "        # 带通滤波器参数\n",
    "        nyq = 0.5 * fs # 信号带限频率 Hz\n",
    "        # 通带限制作为信号带限的分数\n",
    "        high /= nyq \n",
    "        low /= nyq\n",
    "        order = 3 \n",
    "        # Butterworth带通滤波器系数\n",
    "        b, a = butter(order, [low, high], btype='band') \n",
    "        # 滤波信号\n",
    "        x = lfilter(b, a, x)\n",
    "        # 信号平方\n",
    "        x = square(x) \n",
    "        # 计算抽取率\n",
    "        n = int(floor(fs / (cutoff * 2))) \n",
    "        print(n)\n",
    "        # 使用低通滤波器对信号进行n倍抽取\n",
    "        x = decimate(x, n, ftype='fir') \n",
    "        # 信号开平方根\n",
    "        x = sqrt(x) \n",
    "        # 减去均值\n",
    "        x = x - mean(x) \n",
    "\n",
    "        return x "
   ]
  },
  {
   "cell_type": "code",
   "execution_count": 23,
   "id": "2c3510a1",
   "metadata": {},
   "outputs": [],
   "source": [
    "def demon_hilbert_detector(x, cutoff=100.0, high=3000, low=2000, fs=22050): \n",
    "    \"\"\" \n",
    "    希尔伯特变换DEMON算法\n",
    "    \n",
    "    :param x: 输入信号数组 (numpy.ndarray)\n",
    "    :param cutoff: 截止频率 (float)\n",
    "    :param high: 高频截止 (float)\n",
    "    :param low: 低频截止 (float)\n",
    "    :param fs: 采样频率 (float)\n",
    "    :return: 包络信号 (numpy.ndarray)\n",
    "    \"\"\" \n",
    "    # 带通滤波器参数\n",
    "    nyq = 0.5 * fs  # 信号带限频率 Hz \n",
    "    # 通带限制作为信号带限的分数\n",
    "    high /= nyq \n",
    "    low /= nyq \n",
    "    order = 3 \n",
    "    # Butterworth带通滤波器系数\n",
    "    b, a = butter(order, [low, high], btype='band') \n",
    "    # 滤波信号\n",
    "    x = lfilter(b, a, x) \n",
    "    # 信号的希尔伯特变换\n",
    "    x = hilbert(x) \n",
    "    # 信号的绝对值\n",
    "    x = abs(x) \n",
    "    # 计算抽取率\n",
    "    n = int(floor(fs / (cutoff * 2))) \n",
    "    # 使用低通滤波器对信号进行n倍抽取\n",
    "    x = decimate(x, n, ftype='fir') \n",
    "\n",
    "    # 信号开平方根\n",
    "    x = sqrt(x) \n",
    "\n",
    "    # 减去均值\n",
    "    x = x - mean(x) \n",
    "\n",
    "    return x "
   ]
  },
  {
   "cell_type": "code",
   "execution_count": 24,
   "id": "0bde478b",
   "metadata": {},
   "outputs": [
    {
     "name": "stdout",
     "output_type": "stream",
     "text": [
      "110\n"
     ]
    },
    {
     "name": "stderr",
     "output_type": "stream",
     "text": [
      "C:\\Users\\xiecaicheng\\AppData\\Local\\Temp\\ipykernel_39864\\2955058880.py:34: RuntimeWarning: invalid value encountered in sqrt\n",
      "  x = sqrt(x)\n"
     ]
    }
   ],
   "source": [
    "audio_file = r'D:\\数据集\\shipsEar_AUDIOS\\6__10_07_13_marDeCangas_Entra.wav'\n",
    "waveform, sample_rate = librosa.load(audio_file, sr=22050)\n",
    "demon_features = demon_square_law(waveform)"
   ]
  }
 ],
 "metadata": {
  "kernelspec": {
   "display_name": "pytorch_env",
   "language": "python",
   "name": "python3"
  },
  "language_info": {
   "codemirror_mode": {
    "name": "ipython",
    "version": 3
   },
   "file_extension": ".py",
   "mimetype": "text/x-python",
   "name": "python",
   "nbconvert_exporter": "python",
   "pygments_lexer": "ipython3",
   "version": "3.10.16"
  }
 },
 "nbformat": 4,
 "nbformat_minor": 5
}
